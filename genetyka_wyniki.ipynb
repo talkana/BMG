{
 "cells": [
  {
   "cell_type": "markdown",
   "metadata": {},
   "source": [
    "Zad.1<br> \n",
    "Na przykładzie choroba dominująca, związana z posiadaniem allelu A1. Osoba 10 jest rekombinantem. <br> \n",
    "Poniższa funkcja przyjmuje częstość rekombinacji i liczy LOD dla tego rodowodu:"
   ]
  },
  {
   "cell_type": "code",
   "execution_count": 1,
   "metadata": {},
   "outputs": [],
   "source": [
    "import math\n",
    "def simpleLOD(dist):\n",
    "    if dist ==0: return float(\"-inf\")\n",
    "    else:\n",
    "        L_dist = dist*((1-dist)**5)\n",
    "        L_not_dist = 0.5**6\n",
    "        return math.log10(L_dist/L_not_dist)"
   ]
  },
  {
   "cell_type": "markdown",
   "metadata": {},
   "source": [
    "Wyniki dla naszych częstości: "
   ]
  },
  {
   "cell_type": "code",
   "execution_count": 2,
   "metadata": {},
   "outputs": [
    {
     "data": {
      "text/plain": [
       "[-inf,\n",
       " 0.39376800476414475,\n",
       " 0.5773925211805117,\n",
       " 0.6226599046075865,\n",
       " 0.5087914287748336,\n",
       " 0.29899621723006764]"
      ]
     },
     "execution_count": 2,
     "metadata": {},
     "output_type": "execute_result"
    }
   ],
   "source": [
    "freq = [0, 0.05, 0.1, 0.2, 0.3, 0.4]\n",
    "results = []\n",
    "for f in freq:\n",
    "    results.append(simpleLOD(f))\n",
    "results"
   ]
  },
  {
   "cell_type": "markdown",
   "metadata": {},
   "source": [
    "Wyniki dla kolejnych częstości uzyskane przy pomocy programu merlin: <br>\n",
    "[-INF, 0.378, 0.557, 0.632, 0.604, 0.547]"
   ]
  },
  {
   "cell_type": "code",
   "execution_count": 7,
   "metadata": {},
   "outputs": [
    {
     "data": {
      "text/plain": [
       "[nan,\n",
       " 0.01576800476414475,\n",
       " 0.020392521180511602,\n",
       " 0.009340095392413539,\n",
       " 0.09520857122516635,\n",
       " 0.2480037827699324]"
      ]
     },
     "execution_count": 7,
     "metadata": {},
     "output_type": "execute_result"
    }
   ],
   "source": [
    "merlin = [float(\"-inf\"), 0.378, 0.557, 0.632, 0.604, 0.547]\n",
    "odchylenia = []\n",
    "for i in range(len(results)):\n",
    "    odchylenia.append(abs(results[i] - merlin[i]))\n",
    "odchylenia"
   ]
  },
  {
   "cell_type": "markdown",
   "metadata": {},
   "source": [
    "Maksimum występuje dla tej samej wartości. Różnice między wynikami rosną wraz ze wzrostem odległości (choć nie monotonicznie). Częstość rekombinantów maleje liniowo ze wzrostem odległości w genomie. "
   ]
  },
  {
   "cell_type": "markdown",
   "metadata": {},
   "source": [
    "Zad.2 <br> \n",
    "W pliku występuje 18 markerów. <br> \n",
    "Największą wartość uzyskaliśmy dla pozycji 40, która odpowiada markerowi 5"
   ]
  }
 ],
 "metadata": {
  "kernelspec": {
   "display_name": "Python 3",
   "language": "python",
   "name": "python3"
  },
  "language_info": {
   "codemirror_mode": {
    "name": "ipython",
    "version": 3
   },
   "file_extension": ".py",
   "mimetype": "text/x-python",
   "name": "python",
   "nbconvert_exporter": "python",
   "pygments_lexer": "ipython3",
   "version": "3.8.3"
  }
 },
 "nbformat": 4,
 "nbformat_minor": 4
}
